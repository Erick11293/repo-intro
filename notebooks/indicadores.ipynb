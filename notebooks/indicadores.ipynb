{
 "cells": [
  {
   "cell_type": "markdown",
   "id": "94200ff7",
   "metadata": {},
   "source": [
    "### Calculo de indicadores básicos por departamentos"
   ]
  },
  {
   "cell_type": "code",
   "execution_count": 1,
   "id": "fc9e6252",
   "metadata": {
    "tags": []
   },
   "outputs": [],
   "source": [
    "import pandas as pd\n",
    "import numpy as np"
   ]
  },
  {
   "cell_type": "code",
   "execution_count": 2,
   "id": "1b7d8f25-0d99-4db3-9527-fa52a78d368b",
   "metadata": {
    "tags": []
   },
   "outputs": [],
   "source": [
    "import os"
   ]
  },
  {
   "cell_type": "markdown",
   "id": "e32486ae",
   "metadata": {
    "tags": []
   },
   "source": [
    "###### Calculos por periodo"
   ]
  },
  {
   "cell_type": "code",
   "execution_count": 3,
   "id": "801a9915",
   "metadata": {
    "tags": []
   },
   "outputs": [],
   "source": [
    "def procesar_enaho(per):\n",
    "    #Data del modulo 2\n",
    "    print(per)\n",
    "    try:\n",
    "    \n",
    "        modulo2 = (pd\n",
    "                   .read_stata(f'../data/raw/ENAHO/{per}/enaho01-{per}-200.dta', convert_categoricals = False)\n",
    "                   .assign(conglome = lambda df: df.conglome.apply(lambda y: str(int(y))).apply(lambda y: (6 - len(y)) * \"0\" + y))\n",
    "                   .assign(vivienda = lambda df: df.vivienda.apply(lambda y: str(int(y))).apply(lambda y: (3 - len(y)) * \"0\" + y))\n",
    "                   .assign(hogar = lambda df: df.hogar.apply(lambda y: str(int(y))).apply(lambda y: (2 - len(y)) * \"0\" + y))\n",
    "                   .assign(codperso = lambda df: df.codperso.apply(lambda y: str(int(y))).apply(lambda y: (2 - len(y)) * \"0\" + y))\n",
    "                   .set_index(['conglome','vivienda','hogar','codperso'])\n",
    "                   .eval(f'''edad = p208a\n",
    "                   periodoNacimiento = {per} - p208a\n",
    "                   factor = facpob07\n",
    "                   sexo = p207\n",
    "                   ''')\n",
    "                   \n",
    "                  )\n",
    "        \n",
    "        if 'p208a1' in modulo2.columns:\n",
    "            modulo2  = (modulo2.assign(naciodistrito =  lambda df: df.p208a1)\n",
    "                        .assign(lugarnacimiento = lambda df: df.p208a2)\n",
    "                        [['edad','periodoNacimiento','factor','ubigeo','naciodistrito','lugarnacimiento','sexo']]\n",
    "                       )\n",
    "        else:\n",
    "            modulo2 = modulo2[['edad','periodoNacimiento','factor','ubigeo','sexo']]\n",
    "   \n",
    "    except:\n",
    "        \n",
    "        modulo2 = pd.DataFrame()\n",
    "\n",
    "        \n",
    "    try:\n",
    "        modulo4 = (pd\n",
    "                   .read_stata(f'../data/raw/ENAHO/{per}/enaho01a-{per}-400.dta', convert_categoricals = False)\n",
    "                   .assign(conglome = lambda df: df.conglome.apply(lambda y: str(int(y))).apply(lambda y: (6 - len(y)) * \"0\" + y))\n",
    "                   .assign(vivienda = lambda df: df.vivienda.apply(lambda y: str(int(y))).apply(lambda y: (3 - len(y)) * \"0\" + y))\n",
    "                   .assign(hogar = lambda df: df.hogar.apply(lambda y: str(int(y))).apply(lambda y: (2 - len(y)) * \"0\" + y))\n",
    "                   .assign(codperso = lambda df: df.codperso.apply(lambda y: str(int(y))).apply(lambda y: (2 - len(y)) * \"0\" + y))\n",
    "                   .set_index(['conglome','vivienda','hogar','codperso'])\n",
    "                   .rename(columns = {'p401f':'residencia5per',\n",
    "                                     'p401g': 'origen',\n",
    "                                     }\n",
    "                          )\n",
    "                   .pipe(lambda df: df.rename(columns = {'p401g1': 'naciodistrito', 'p401g2': 'lugarnacimiento'})[['residencia5per','origen','naciodistrito','lugarnacimiento']] if 'p401g1' in df.columns else df[['residencia5per','origen']])\n",
    "                  )\n",
    "    except:\n",
    "        modulo4 = pd.DataFrame()\n",
    "        \n",
    "        \n",
    "    try:\n",
    "        modulo5 = (pd\n",
    "                   .read_stata(f'../data/raw/ENAHO/{per}/enaho01a-{per}-500.dta', convert_categoricals = False)\n",
    "                   .assign(conglome = lambda df: df.conglome.apply(lambda y: str(int(y))).apply(lambda y: (6 - len(y)) * \"0\" + y))\n",
    "                   .assign(vivienda = lambda df: df.vivienda.apply(lambda y: str(int(y))).apply(lambda y: (3 - len(y)) * \"0\" + y))\n",
    "                   .assign(hogar = lambda df: df.hogar.apply(lambda y: str(int(y))).apply(lambda y: (2 - len(y)) * \"0\" + y))\n",
    "                   .assign(codperso = lambda df: df.codperso.apply(lambda y: str(int(y))).apply(lambda y: (2 - len(y)) * \"0\" + y))\n",
    "                   .set_index(['conglome','vivienda','hogar','codperso'])\n",
    "                   .rename(\n",
    "                       columns = {\n",
    "                           'ocu500':'empleo',\n",
    "                           'p301a': 'educacion',\n",
    "                           'p506': 'sector'\n",
    "                                     }\n",
    "                          )\n",
    "                   .fillna({\n",
    "                       'i524e1':0,\n",
    "                       'i530a':0,\n",
    "                       'i538e1':0,\n",
    "                       'i541a':0\n",
    "                   })\n",
    "                   .eval('ingresos =  i524e1 + i530a + i538e1 + i541a')\n",
    "\n",
    "                  )\n",
    "        \n",
    "        modulo5 = modulo5[['empleo','educacion','ingresos','sector']]\n",
    "    except:\n",
    "        modulo5 = pd.DataFrame()\n",
    "\n",
    "    modulo3 = (pd\n",
    "           .read_stata(f'../data/raw/ENAHO/{per}/enaho01a-{per}-300.dta', convert_categoricals = False)\n",
    "           .assign(conglome = lambda df: df.conglome.apply(lambda y: str(int(y))).apply(lambda y: (6 - len(y)) * \"0\" + y))\n",
    "           .assign(vivienda = lambda df: df.vivienda.apply(lambda y: str(int(y))).apply(lambda y: (3 - len(y)) * \"0\" + y))\n",
    "           .assign(hogar = lambda df: df.hogar.apply(lambda y: str(int(y))).apply(lambda y: (2 - len(y)) * \"0\" + y))\n",
    "           .assign(codperso = lambda df: df.codperso.apply(lambda y: str(int(y))).apply(lambda y: (2 - len(y)) * \"0\" + y))\n",
    "           .set_index(['conglome','vivienda','hogar','codperso'])\n",
    "          )\n",
    "        \n",
    "    modulo3['yearofeduc'] = ((modulo3['p301a'].isin([0,1])) * 0 + \n",
    "                         (modulo3['p301a'] == 3) * (modulo3[['p301c','p301b']].sum(axis = 1).apply(lambda y: 6 if y>6 else y)) +\n",
    "                         (modulo3['p301a'] == 4) * 6 +\n",
    "                         (modulo3['p301a'] == 5) * (modulo3[['p301c','p301b']].sum(axis = 1).apply(lambda y: 5 if y>5 else y) + 6) +\n",
    "                         (modulo3['p301a'] == 6) * 11 +\n",
    "                         (modulo3['p301a'] == 7) * (modulo3[['p301c','p301b']].sum(axis = 1).apply(lambda y: 3 if y>3 else y) + 11) +\n",
    "                         (modulo3['p301a'] == 8) * 14 +\n",
    "                         (modulo3['p301a'] == 9) * (modulo3[['p301c','p301b']].sum(axis = 1).apply(lambda y: 5 if y>5 else y) + 11) +\n",
    "                         (modulo3['p301a'] == 10) * 16 +\n",
    "                         (modulo3['p301a'] == 11) * 18\n",
    "                        )\n",
    "    \n",
    "    modulo3 = modulo3['yearofeduc']\n",
    "    \n",
    "    consolidado = (pd.concat([modulo2, modulo3, modulo4, modulo5], axis = 1)\n",
    "                   .assign(periodo = per)\n",
    "                   .set_index('periodo', append = True)\n",
    "                  )\n",
    "\n",
    "    \n",
    "    consolidado['ubigeo'] = consolidado['ubigeo'].replace('',np.nan).apply(int).apply(str).apply(lambda y: \"0\" * (6 - len(y)) + y)\n",
    "    consolidado['lugarnacimiento'] = consolidado['lugarnacimiento'].replace('',np.nan).dropna().apply(int).apply(str).apply(lambda y: \"0\" * (6 - len(y)) + y)\n",
    "    consolidado.loc[(consolidado['naciodistrito'] == 1), 'lugarnacimiento'] = consolidado['ubigeo']\n",
    "     \n",
    "    \n",
    "    return consolidado"
   ]
  },
  {
   "cell_type": "code",
   "execution_count": 4,
   "id": "e6e348fe",
   "metadata": {
    "tags": []
   },
   "outputs": [
    {
     "name": "stdout",
     "output_type": "stream",
     "text": [
      "2004\n"
     ]
    },
    {
     "name": "stderr",
     "output_type": "stream",
     "text": [
      "/tmp/ipykernel_14595/2821504467.py:6: UnicodeWarning: \n",
      "One or more strings in the dta file could not be decoded using utf-8, and\n",
      "so the fallback encoding of latin-1 is being used.  This can happen when a file\n",
      "has been incorrectly encoded by Stata or some other software. You should verify\n",
      "the string values returned are correct.\n",
      "  modulo2 = (pd\n",
      "/tmp/ipykernel_14595/2821504467.py:35: UnicodeWarning: \n",
      "One or more strings in the dta file could not be decoded using utf-8, and\n",
      "so the fallback encoding of latin-1 is being used.  This can happen when a file\n",
      "has been incorrectly encoded by Stata or some other software. You should verify\n",
      "the string values returned are correct.\n",
      "  modulo4 = (pd\n",
      "/tmp/ipykernel_14595/2821504467.py:53: UnicodeWarning: \n",
      "One or more strings in the dta file could not be decoded using utf-8, and\n",
      "so the fallback encoding of latin-1 is being used.  This can happen when a file\n",
      "has been incorrectly encoded by Stata or some other software. You should verify\n",
      "the string values returned are correct.\n",
      "  modulo5 = (pd\n",
      "/tmp/ipykernel_14595/2821504467.py:81: UnicodeWarning: \n",
      "One or more strings in the dta file could not be decoded using utf-8, and\n",
      "so the fallback encoding of latin-1 is being used.  This can happen when a file\n",
      "has been incorrectly encoded by Stata or some other software. You should verify\n",
      "the string values returned are correct.\n",
      "  modulo3 = (pd\n"
     ]
    },
    {
     "name": "stdout",
     "output_type": "stream",
     "text": [
      "2005\n"
     ]
    },
    {
     "name": "stderr",
     "output_type": "stream",
     "text": [
      "/tmp/ipykernel_14595/2821504467.py:6: UnicodeWarning: \n",
      "One or more strings in the dta file could not be decoded using utf-8, and\n",
      "so the fallback encoding of latin-1 is being used.  This can happen when a file\n",
      "has been incorrectly encoded by Stata or some other software. You should verify\n",
      "the string values returned are correct.\n",
      "  modulo2 = (pd\n",
      "/tmp/ipykernel_14595/2821504467.py:35: UnicodeWarning: \n",
      "One or more strings in the dta file could not be decoded using utf-8, and\n",
      "so the fallback encoding of latin-1 is being used.  This can happen when a file\n",
      "has been incorrectly encoded by Stata or some other software. You should verify\n",
      "the string values returned are correct.\n",
      "  modulo4 = (pd\n",
      "/tmp/ipykernel_14595/2821504467.py:53: UnicodeWarning: \n",
      "One or more strings in the dta file could not be decoded using utf-8, and\n",
      "so the fallback encoding of latin-1 is being used.  This can happen when a file\n",
      "has been incorrectly encoded by Stata or some other software. You should verify\n",
      "the string values returned are correct.\n",
      "  modulo5 = (pd\n",
      "/tmp/ipykernel_14595/2821504467.py:81: UnicodeWarning: \n",
      "One or more strings in the dta file could not be decoded using utf-8, and\n",
      "so the fallback encoding of latin-1 is being used.  This can happen when a file\n",
      "has been incorrectly encoded by Stata or some other software. You should verify\n",
      "the string values returned are correct.\n",
      "  modulo3 = (pd\n"
     ]
    },
    {
     "name": "stdout",
     "output_type": "stream",
     "text": [
      "2006\n"
     ]
    },
    {
     "name": "stderr",
     "output_type": "stream",
     "text": [
      "/tmp/ipykernel_14595/2821504467.py:6: UnicodeWarning: \n",
      "One or more strings in the dta file could not be decoded using utf-8, and\n",
      "so the fallback encoding of latin-1 is being used.  This can happen when a file\n",
      "has been incorrectly encoded by Stata or some other software. You should verify\n",
      "the string values returned are correct.\n",
      "  modulo2 = (pd\n",
      "/tmp/ipykernel_14595/2821504467.py:35: UnicodeWarning: \n",
      "One or more strings in the dta file could not be decoded using utf-8, and\n",
      "so the fallback encoding of latin-1 is being used.  This can happen when a file\n",
      "has been incorrectly encoded by Stata or some other software. You should verify\n",
      "the string values returned are correct.\n",
      "  modulo4 = (pd\n",
      "/tmp/ipykernel_14595/2821504467.py:53: UnicodeWarning: \n",
      "One or more strings in the dta file could not be decoded using utf-8, and\n",
      "so the fallback encoding of latin-1 is being used.  This can happen when a file\n",
      "has been incorrectly encoded by Stata or some other software. You should verify\n",
      "the string values returned are correct.\n",
      "  modulo5 = (pd\n",
      "/tmp/ipykernel_14595/2821504467.py:81: UnicodeWarning: \n",
      "One or more strings in the dta file could not be decoded using utf-8, and\n",
      "so the fallback encoding of latin-1 is being used.  This can happen when a file\n",
      "has been incorrectly encoded by Stata or some other software. You should verify\n",
      "the string values returned are correct.\n",
      "  modulo3 = (pd\n"
     ]
    },
    {
     "name": "stdout",
     "output_type": "stream",
     "text": [
      "2007\n"
     ]
    },
    {
     "name": "stderr",
     "output_type": "stream",
     "text": [
      "/tmp/ipykernel_14595/2821504467.py:6: UnicodeWarning: \n",
      "One or more strings in the dta file could not be decoded using utf-8, and\n",
      "so the fallback encoding of latin-1 is being used.  This can happen when a file\n",
      "has been incorrectly encoded by Stata or some other software. You should verify\n",
      "the string values returned are correct.\n",
      "  modulo2 = (pd\n",
      "/tmp/ipykernel_14595/2821504467.py:35: UnicodeWarning: \n",
      "One or more strings in the dta file could not be decoded using utf-8, and\n",
      "so the fallback encoding of latin-1 is being used.  This can happen when a file\n",
      "has been incorrectly encoded by Stata or some other software. You should verify\n",
      "the string values returned are correct.\n",
      "  modulo4 = (pd\n",
      "/tmp/ipykernel_14595/2821504467.py:53: UnicodeWarning: \n",
      "One or more strings in the dta file could not be decoded using utf-8, and\n",
      "so the fallback encoding of latin-1 is being used.  This can happen when a file\n",
      "has been incorrectly encoded by Stata or some other software. You should verify\n",
      "the string values returned are correct.\n",
      "  modulo5 = (pd\n",
      "/tmp/ipykernel_14595/2821504467.py:81: UnicodeWarning: \n",
      "One or more strings in the dta file could not be decoded using utf-8, and\n",
      "so the fallback encoding of latin-1 is being used.  This can happen when a file\n",
      "has been incorrectly encoded by Stata or some other software. You should verify\n",
      "the string values returned are correct.\n",
      "  modulo3 = (pd\n"
     ]
    },
    {
     "name": "stdout",
     "output_type": "stream",
     "text": [
      "2008\n"
     ]
    },
    {
     "name": "stderr",
     "output_type": "stream",
     "text": [
      "/tmp/ipykernel_14595/2821504467.py:6: UnicodeWarning: \n",
      "One or more strings in the dta file could not be decoded using utf-8, and\n",
      "so the fallback encoding of latin-1 is being used.  This can happen when a file\n",
      "has been incorrectly encoded by Stata or some other software. You should verify\n",
      "the string values returned are correct.\n",
      "  modulo2 = (pd\n",
      "/tmp/ipykernel_14595/2821504467.py:35: UnicodeWarning: \n",
      "One or more strings in the dta file could not be decoded using utf-8, and\n",
      "so the fallback encoding of latin-1 is being used.  This can happen when a file\n",
      "has been incorrectly encoded by Stata or some other software. You should verify\n",
      "the string values returned are correct.\n",
      "  modulo4 = (pd\n",
      "/tmp/ipykernel_14595/2821504467.py:53: UnicodeWarning: \n",
      "One or more strings in the dta file could not be decoded using utf-8, and\n",
      "so the fallback encoding of latin-1 is being used.  This can happen when a file\n",
      "has been incorrectly encoded by Stata or some other software. You should verify\n",
      "the string values returned are correct.\n",
      "  modulo5 = (pd\n",
      "/tmp/ipykernel_14595/2821504467.py:81: UnicodeWarning: \n",
      "One or more strings in the dta file could not be decoded using utf-8, and\n",
      "so the fallback encoding of latin-1 is being used.  This can happen when a file\n",
      "has been incorrectly encoded by Stata or some other software. You should verify\n",
      "the string values returned are correct.\n",
      "  modulo3 = (pd\n"
     ]
    },
    {
     "name": "stdout",
     "output_type": "stream",
     "text": [
      "2009\n"
     ]
    },
    {
     "name": "stderr",
     "output_type": "stream",
     "text": [
      "/tmp/ipykernel_14595/2821504467.py:6: UnicodeWarning: \n",
      "One or more strings in the dta file could not be decoded using utf-8, and\n",
      "so the fallback encoding of latin-1 is being used.  This can happen when a file\n",
      "has been incorrectly encoded by Stata or some other software. You should verify\n",
      "the string values returned are correct.\n",
      "  modulo2 = (pd\n",
      "/tmp/ipykernel_14595/2821504467.py:35: UnicodeWarning: \n",
      "One or more strings in the dta file could not be decoded using utf-8, and\n",
      "so the fallback encoding of latin-1 is being used.  This can happen when a file\n",
      "has been incorrectly encoded by Stata or some other software. You should verify\n",
      "the string values returned are correct.\n",
      "  modulo4 = (pd\n",
      "/tmp/ipykernel_14595/2821504467.py:53: UnicodeWarning: \n",
      "One or more strings in the dta file could not be decoded using utf-8, and\n",
      "so the fallback encoding of latin-1 is being used.  This can happen when a file\n",
      "has been incorrectly encoded by Stata or some other software. You should verify\n",
      "the string values returned are correct.\n",
      "  modulo5 = (pd\n",
      "/tmp/ipykernel_14595/2821504467.py:81: UnicodeWarning: \n",
      "One or more strings in the dta file could not be decoded using utf-8, and\n",
      "so the fallback encoding of latin-1 is being used.  This can happen when a file\n",
      "has been incorrectly encoded by Stata or some other software. You should verify\n",
      "the string values returned are correct.\n",
      "  modulo3 = (pd\n"
     ]
    },
    {
     "name": "stdout",
     "output_type": "stream",
     "text": [
      "2010\n",
      "2011\n",
      "2012\n",
      "2013\n",
      "2014\n",
      "2015\n",
      "2016\n",
      "2017\n",
      "2018\n",
      "2019\n",
      "2020\n",
      "2021\n"
     ]
    }
   ],
   "source": [
    "data_survey = pd.concat(map(procesar_enaho, range(2004,2022)))"
   ]
  },
  {
   "cell_type": "code",
   "execution_count": 5,
   "id": "29a780ad",
   "metadata": {
    "tags": []
   },
   "outputs": [],
   "source": [
    "ciiu = pd.read_excel(\"../data/external/Sectores.xlsx\", dtype = str).set_index('ciiu')"
   ]
  },
  {
   "cell_type": "code",
   "execution_count": 6,
   "id": "d5bcaf5a",
   "metadata": {
    "tags": []
   },
   "outputs": [],
   "source": [
    "\n",
    "data_survey['sector'] = data_survey['sector'].fillna(0).apply(int).apply(str).apply(lambda y: \"0\" * (4 - len(y)) + y).str[0:2]"
   ]
  },
  {
   "cell_type": "code",
   "execution_count": 7,
   "id": "a16947f6",
   "metadata": {
    "tags": []
   },
   "outputs": [],
   "source": [
    "data_survey['sector'] = data_survey['sector'].replace(ciiu['sector'])"
   ]
  },
  {
   "cell_type": "code",
   "execution_count": 8,
   "id": "5f801b2b",
   "metadata": {
    "tags": []
   },
   "outputs": [],
   "source": [
    "data_survey['sexo'] = (data_survey['sexo'].dropna() == 1)"
   ]
  },
  {
   "cell_type": "code",
   "execution_count": 9,
   "id": "65016c63",
   "metadata": {
    "tags": []
   },
   "outputs": [],
   "source": [
    "data_survey['origen'] = data_survey['origen'].dropna().apply(int).apply(str).apply(lambda y: (6 - len(y))*\"0\" + y)"
   ]
  },
  {
   "cell_type": "code",
   "execution_count": 11,
   "id": "6b83f277",
   "metadata": {
    "tags": []
   },
   "outputs": [],
   "source": [
    "data_survey.to_pickle(\"../data/interim/data_survey.pickle\")"
   ]
  },
  {
   "cell_type": "code",
   "execution_count": null,
   "id": "4ee4c00f",
   "metadata": {},
   "outputs": [],
   "source": []
  }
 ],
 "metadata": {
  "kernelspec": {
   "display_name": "Python 3 (ipykernel)",
   "language": "python",
   "name": "python3"
  },
  "language_info": {
   "codemirror_mode": {
    "name": "ipython",
    "version": 3
   },
   "file_extension": ".py",
   "mimetype": "text/x-python",
   "name": "python",
   "nbconvert_exporter": "python",
   "pygments_lexer": "ipython3",
   "version": "3.10.11"
  }
 },
 "nbformat": 4,
 "nbformat_minor": 5
}
