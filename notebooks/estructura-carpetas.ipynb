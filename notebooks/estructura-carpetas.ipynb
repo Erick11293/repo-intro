{
 "cells": [
  {
   "cell_type": "markdown",
   "id": "be850a7b-5d65-4c2d-a408-bdd98e677ff4",
   "metadata": {},
   "source": [
    "# Estructura de la carpeta data"
   ]
  },
  {
   "cell_type": "code",
   "execution_count": 1,
   "id": "3ca9105b-df28-4b1d-9a2d-56f066baa9fe",
   "metadata": {
    "tags": []
   },
   "outputs": [],
   "source": [
    "import os"
   ]
  },
  {
   "cell_type": "code",
   "execution_count": 2,
   "id": "e9a54805-47f2-4825-a3de-b472d6df82c6",
   "metadata": {
    "tags": []
   },
   "outputs": [],
   "source": [
    "try:\n",
    "    os.mkdir(\"../data\")\n",
    "except FileExistsError:\n",
    "    pass\n",
    "try:\n",
    "    os.mkdir(\"../data/raw\")\n",
    "except FileExistsError:\n",
    "    pass\n",
    "try:\n",
    "    os.mkdir(\"../data/interim\")\n",
    "except FileExistsError:\n",
    "    pass\n",
    "try:\n",
    "    os.mkdir(\"../data/processed\")\n",
    "except FileExistsError:\n",
    "    pass\n",
    "try:\n",
    "    os.mkdir(\"../data/external\")\n",
    "except FileExistsError:\n",
    "    pass"
   ]
  },
  {
   "cell_type": "code",
   "execution_count": null,
   "id": "045d93db-18f3-4fd9-88bd-053cd5c004e5",
   "metadata": {},
   "outputs": [],
   "source": []
  }
 ],
 "metadata": {
  "kernelspec": {
   "display_name": "Python 3 (ipykernel)",
   "language": "python",
   "name": "python3"
  },
  "language_info": {
   "codemirror_mode": {
    "name": "ipython",
    "version": 3
   },
   "file_extension": ".py",
   "mimetype": "text/x-python",
   "name": "python",
   "nbconvert_exporter": "python",
   "pygments_lexer": "ipython3",
   "version": "3.11.6"
  }
 },
 "nbformat": 4,
 "nbformat_minor": 5
}
