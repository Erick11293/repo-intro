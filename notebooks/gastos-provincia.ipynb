{
 "cells": [
  {
   "cell_type": "markdown",
   "metadata": {},
   "source": [
    "### Creando un indicador de gasto per capita por provincia"
   ]
  },
  {
   "cell_type": "markdown",
   "metadata": {},
   "source": [
    "##### Librerias"
   ]
  },
  {
   "cell_type": "code",
   "execution_count": 1,
   "metadata": {
    "tags": []
   },
   "outputs": [],
   "source": [
    "import pandas as pd\n",
    "import numpy as np\n",
    "\n",
    "import matplotlib.pyplot as plt"
   ]
  },
  {
   "cell_type": "markdown",
   "metadata": {},
   "source": [
    "###### Poblacion"
   ]
  },
  {
   "cell_type": "code",
   "execution_count": 2,
   "metadata": {
    "tags": []
   },
   "outputs": [],
   "source": [
    "#Se lee la base de poblacion por distrito\n",
    "population = pd.read_pickle(\"../data/raw/poblacion-provincia-periodo.pickle\")"
   ]
  },
  {
   "cell_type": "code",
   "execution_count": 3,
   "metadata": {
    "tags": []
   },
   "outputs": [
    {
     "data": {
      "text/html": [
       "<div>\n",
       "<style scoped>\n",
       "    .dataframe tbody tr th:only-of-type {\n",
       "        vertical-align: middle;\n",
       "    }\n",
       "\n",
       "    .dataframe tbody tr th {\n",
       "        vertical-align: top;\n",
       "    }\n",
       "\n",
       "    .dataframe thead th {\n",
       "        text-align: right;\n",
       "    }\n",
       "</style>\n",
       "<table border=\"1\" class=\"dataframe\">\n",
       "  <thead>\n",
       "    <tr style=\"text-align: right;\">\n",
       "      <th></th>\n",
       "      <th></th>\n",
       "      <th>2007</th>\n",
       "      <th>2017</th>\n",
       "      <th>Ubigeo</th>\n",
       "      <th>2008</th>\n",
       "      <th>2009</th>\n",
       "      <th>2010</th>\n",
       "      <th>2011</th>\n",
       "      <th>2012</th>\n",
       "      <th>2013</th>\n",
       "      <th>2014</th>\n",
       "      <th>2015</th>\n",
       "      <th>2016</th>\n",
       "      <th>2018</th>\n",
       "      <th>2019</th>\n",
       "      <th>2020</th>\n",
       "      <th>2021</th>\n",
       "    </tr>\n",
       "    <tr>\n",
       "      <th>Departamento</th>\n",
       "      <th>Provincia</th>\n",
       "      <th></th>\n",
       "      <th></th>\n",
       "      <th></th>\n",
       "      <th></th>\n",
       "      <th></th>\n",
       "      <th></th>\n",
       "      <th></th>\n",
       "      <th></th>\n",
       "      <th></th>\n",
       "      <th></th>\n",
       "      <th></th>\n",
       "      <th></th>\n",
       "      <th></th>\n",
       "      <th></th>\n",
       "      <th></th>\n",
       "      <th></th>\n",
       "    </tr>\n",
       "  </thead>\n",
       "  <tbody>\n",
       "    <tr>\n",
       "      <th rowspan=\"5\" valign=\"top\">AMAZONAS</th>\n",
       "      <th>BAGUA</th>\n",
       "      <td>72757</td>\n",
       "      <td>74100.0</td>\n",
       "      <td>0102</td>\n",
       "      <td>72890.197317</td>\n",
       "      <td>73023.638481</td>\n",
       "      <td>73157.323938</td>\n",
       "      <td>73291.254134</td>\n",
       "      <td>73425.429519</td>\n",
       "      <td>73559.850540</td>\n",
       "      <td>73694.517648</td>\n",
       "      <td>73829.431293</td>\n",
       "      <td>73964.591926</td>\n",
       "      <td>74235.655967</td>\n",
       "      <td>74371.560282</td>\n",
       "      <td>74507.713399</td>\n",
       "      <td>74644.115774</td>\n",
       "    </tr>\n",
       "    <tr>\n",
       "      <th>BONGARA</th>\n",
       "      <td>27465</td>\n",
       "      <td>25637.0</td>\n",
       "      <td>0103</td>\n",
       "      <td>27276.482449</td>\n",
       "      <td>27089.258867</td>\n",
       "      <td>26903.320373</td>\n",
       "      <td>26718.658145</td>\n",
       "      <td>26535.263424</td>\n",
       "      <td>26353.127510</td>\n",
       "      <td>26172.241762</td>\n",
       "      <td>25992.597600</td>\n",
       "      <td>25814.186500</td>\n",
       "      <td>25461.029694</td>\n",
       "      <td>25286.267234</td>\n",
       "      <td>25112.704329</td>\n",
       "      <td>24940.332746</td>\n",
       "    </tr>\n",
       "    <tr>\n",
       "      <th>CHACHAPOYAS</th>\n",
       "      <td>49700</td>\n",
       "      <td>55506.0</td>\n",
       "      <td>0101</td>\n",
       "      <td>50252.161055</td>\n",
       "      <td>50810.456554</td>\n",
       "      <td>51374.954649</td>\n",
       "      <td>51945.724251</td>\n",
       "      <td>52522.835034</td>\n",
       "      <td>53106.357449</td>\n",
       "      <td>53696.362728</td>\n",
       "      <td>54292.922896</td>\n",
       "      <td>54896.110775</td>\n",
       "      <td>56122.665021</td>\n",
       "      <td>56746.181117</td>\n",
       "      <td>57376.624402</td>\n",
       "      <td>58014.071836</td>\n",
       "    </tr>\n",
       "    <tr>\n",
       "      <th>CONDORCANQUI</th>\n",
       "      <td>43311</td>\n",
       "      <td>42470.0</td>\n",
       "      <td>0104</td>\n",
       "      <td>43226.155971</td>\n",
       "      <td>43141.478147</td>\n",
       "      <td>43056.966202</td>\n",
       "      <td>42972.619812</td>\n",
       "      <td>42888.438652</td>\n",
       "      <td>42804.422399</td>\n",
       "      <td>42720.570729</td>\n",
       "      <td>42636.883320</td>\n",
       "      <td>42553.359851</td>\n",
       "      <td>42386.803447</td>\n",
       "      <td>42303.769871</td>\n",
       "      <td>42220.898954</td>\n",
       "      <td>42138.190377</td>\n",
       "    </tr>\n",
       "    <tr>\n",
       "      <th>LUYA</th>\n",
       "      <td>48328</td>\n",
       "      <td>44436.0</td>\n",
       "      <td>0105</td>\n",
       "      <td>47923.931227</td>\n",
       "      <td>47523.240858</td>\n",
       "      <td>47125.900649</td>\n",
       "      <td>46731.882588</td>\n",
       "      <td>46341.158898</td>\n",
       "      <td>45953.702036</td>\n",
       "      <td>45569.484687</td>\n",
       "      <td>45188.479767</td>\n",
       "      <td>44810.660416</td>\n",
       "      <td>44064.472107</td>\n",
       "      <td>43696.050546</td>\n",
       "      <td>43330.709345</td>\n",
       "      <td>42968.422750</td>\n",
       "    </tr>\n",
       "    <tr>\n",
       "      <th>...</th>\n",
       "      <th>...</th>\n",
       "      <td>...</td>\n",
       "      <td>...</td>\n",
       "      <td>...</td>\n",
       "      <td>...</td>\n",
       "      <td>...</td>\n",
       "      <td>...</td>\n",
       "      <td>...</td>\n",
       "      <td>...</td>\n",
       "      <td>...</td>\n",
       "      <td>...</td>\n",
       "      <td>...</td>\n",
       "      <td>...</td>\n",
       "      <td>...</td>\n",
       "      <td>...</td>\n",
       "      <td>...</td>\n",
       "      <td>...</td>\n",
       "    </tr>\n",
       "    <tr>\n",
       "      <th>TUMBES</th>\n",
       "      <th>ZARUMILLA</th>\n",
       "      <td>41054</td>\n",
       "      <td>48844.0</td>\n",
       "      <td>2403</td>\n",
       "      <td>41773.518103</td>\n",
       "      <td>42505.646581</td>\n",
       "      <td>43250.606444</td>\n",
       "      <td>44008.622576</td>\n",
       "      <td>44779.923805</td>\n",
       "      <td>45564.742966</td>\n",
       "      <td>46363.316977</td>\n",
       "      <td>47175.886907</td>\n",
       "      <td>48002.698050</td>\n",
       "      <td>49700.046725</td>\n",
       "      <td>50571.096643</td>\n",
       "      <td>51457.412704</td>\n",
       "      <td>52359.262462</td>\n",
       "    </tr>\n",
       "    <tr>\n",
       "      <th rowspan=\"4\" valign=\"top\">UCAYALI</th>\n",
       "      <th>ATALAYA</th>\n",
       "      <td>43933</td>\n",
       "      <td>49324.0</td>\n",
       "      <td>2502</td>\n",
       "      <td>44444.456868</td>\n",
       "      <td>44961.867988</td>\n",
       "      <td>45485.302677</td>\n",
       "      <td>46014.831060</td>\n",
       "      <td>46550.524079</td>\n",
       "      <td>47092.453500</td>\n",
       "      <td>47640.691926</td>\n",
       "      <td>48195.312806</td>\n",
       "      <td>48756.390441</td>\n",
       "      <td>49898.217526</td>\n",
       "      <td>50479.119947</td>\n",
       "      <td>51066.785087</td>\n",
       "      <td>51661.291676</td>\n",
       "    </tr>\n",
       "    <tr>\n",
       "      <th>CORONEL PORTILLO</th>\n",
       "      <td>333890</td>\n",
       "      <td>384168.0</td>\n",
       "      <td>2501</td>\n",
       "      <td>338606.421158</td>\n",
       "      <td>343389.464942</td>\n",
       "      <td>348240.072441</td>\n",
       "      <td>353159.198038</td>\n",
       "      <td>358147.809598</td>\n",
       "      <td>363206.888657</td>\n",
       "      <td>368337.430615</td>\n",
       "      <td>373540.444934</td>\n",
       "      <td>378816.955335</td>\n",
       "      <td>389594.631775</td>\n",
       "      <td>395097.918380</td>\n",
       "      <td>400678.942614</td>\n",
       "      <td>406338.802576</td>\n",
       "    </tr>\n",
       "    <tr>\n",
       "      <th>PADRE ABAD</th>\n",
       "      <td>52590</td>\n",
       "      <td>60107.0</td>\n",
       "      <td>2503</td>\n",
       "      <td>53297.318459</td>\n",
       "      <td>54014.150122</td>\n",
       "      <td>54740.622939</td>\n",
       "      <td>55476.866580</td>\n",
       "      <td>56223.012459</td>\n",
       "      <td>56979.193759</td>\n",
       "      <td>57745.545452</td>\n",
       "      <td>58522.204327</td>\n",
       "      <td>59309.309012</td>\n",
       "      <td>60915.419673</td>\n",
       "      <td>61734.712329</td>\n",
       "      <td>62565.024206</td>\n",
       "      <td>63406.503509</td>\n",
       "    </tr>\n",
       "    <tr>\n",
       "      <th>PURUS</th>\n",
       "      <td>3746</td>\n",
       "      <td>2860.0</td>\n",
       "      <td>2504</td>\n",
       "      <td>3646.259713</td>\n",
       "      <td>3549.175093</td>\n",
       "      <td>3454.675429</td>\n",
       "      <td>3362.691895</td>\n",
       "      <td>3273.157497</td>\n",
       "      <td>3186.007025</td>\n",
       "      <td>3101.177005</td>\n",
       "      <td>3018.605654</td>\n",
       "      <td>2938.232831</td>\n",
       "      <td>2783.850182</td>\n",
       "      <td>2709.727914</td>\n",
       "      <td>2637.579211</td>\n",
       "      <td>2567.351527</td>\n",
       "    </tr>\n",
       "  </tbody>\n",
       "</table>\n",
       "<p>196 rows × 16 columns</p>\n",
       "</div>"
      ],
      "text/plain": [
       "                                 2007      2017 Ubigeo           2008   \n",
       "Departamento Provincia                                                  \n",
       "AMAZONAS     BAGUA              72757   74100.0   0102   72890.197317  \\\n",
       "             BONGARA            27465   25637.0   0103   27276.482449   \n",
       "             CHACHAPOYAS        49700   55506.0   0101   50252.161055   \n",
       "             CONDORCANQUI       43311   42470.0   0104   43226.155971   \n",
       "             LUYA               48328   44436.0   0105   47923.931227   \n",
       "...                               ...       ...    ...            ...   \n",
       "TUMBES       ZARUMILLA          41054   48844.0   2403   41773.518103   \n",
       "UCAYALI      ATALAYA            43933   49324.0   2502   44444.456868   \n",
       "             CORONEL PORTILLO  333890  384168.0   2501  338606.421158   \n",
       "             PADRE ABAD         52590   60107.0   2503   53297.318459   \n",
       "             PURUS               3746    2860.0   2504    3646.259713   \n",
       "\n",
       "                                        2009           2010           2011   \n",
       "Departamento Provincia                                                       \n",
       "AMAZONAS     BAGUA              73023.638481   73157.323938   73291.254134  \\\n",
       "             BONGARA            27089.258867   26903.320373   26718.658145   \n",
       "             CHACHAPOYAS        50810.456554   51374.954649   51945.724251   \n",
       "             CONDORCANQUI       43141.478147   43056.966202   42972.619812   \n",
       "             LUYA               47523.240858   47125.900649   46731.882588   \n",
       "...                                      ...            ...            ...   \n",
       "TUMBES       ZARUMILLA          42505.646581   43250.606444   44008.622576   \n",
       "UCAYALI      ATALAYA            44961.867988   45485.302677   46014.831060   \n",
       "             CORONEL PORTILLO  343389.464942  348240.072441  353159.198038   \n",
       "             PADRE ABAD         54014.150122   54740.622939   55476.866580   \n",
       "             PURUS               3549.175093    3454.675429    3362.691895   \n",
       "\n",
       "                                        2012           2013           2014   \n",
       "Departamento Provincia                                                       \n",
       "AMAZONAS     BAGUA              73425.429519   73559.850540   73694.517648  \\\n",
       "             BONGARA            26535.263424   26353.127510   26172.241762   \n",
       "             CHACHAPOYAS        52522.835034   53106.357449   53696.362728   \n",
       "             CONDORCANQUI       42888.438652   42804.422399   42720.570729   \n",
       "             LUYA               46341.158898   45953.702036   45569.484687   \n",
       "...                                      ...            ...            ...   \n",
       "TUMBES       ZARUMILLA          44779.923805   45564.742966   46363.316977   \n",
       "UCAYALI      ATALAYA            46550.524079   47092.453500   47640.691926   \n",
       "             CORONEL PORTILLO  358147.809598  363206.888657  368337.430615   \n",
       "             PADRE ABAD         56223.012459   56979.193759   57745.545452   \n",
       "             PURUS               3273.157497    3186.007025    3101.177005   \n",
       "\n",
       "                                        2015           2016           2018   \n",
       "Departamento Provincia                                                       \n",
       "AMAZONAS     BAGUA              73829.431293   73964.591926   74235.655967  \\\n",
       "             BONGARA            25992.597600   25814.186500   25461.029694   \n",
       "             CHACHAPOYAS        54292.922896   54896.110775   56122.665021   \n",
       "             CONDORCANQUI       42636.883320   42553.359851   42386.803447   \n",
       "             LUYA               45188.479767   44810.660416   44064.472107   \n",
       "...                                      ...            ...            ...   \n",
       "TUMBES       ZARUMILLA          47175.886907   48002.698050   49700.046725   \n",
       "UCAYALI      ATALAYA            48195.312806   48756.390441   49898.217526   \n",
       "             CORONEL PORTILLO  373540.444934  378816.955335  389594.631775   \n",
       "             PADRE ABAD         58522.204327   59309.309012   60915.419673   \n",
       "             PURUS               3018.605654    2938.232831    2783.850182   \n",
       "\n",
       "                                        2019           2020           2021  \n",
       "Departamento Provincia                                                      \n",
       "AMAZONAS     BAGUA              74371.560282   74507.713399   74644.115774  \n",
       "             BONGARA            25286.267234   25112.704329   24940.332746  \n",
       "             CHACHAPOYAS        56746.181117   57376.624402   58014.071836  \n",
       "             CONDORCANQUI       42303.769871   42220.898954   42138.190377  \n",
       "             LUYA               43696.050546   43330.709345   42968.422750  \n",
       "...                                      ...            ...            ...  \n",
       "TUMBES       ZARUMILLA          50571.096643   51457.412704   52359.262462  \n",
       "UCAYALI      ATALAYA            50479.119947   51066.785087   51661.291676  \n",
       "             CORONEL PORTILLO  395097.918380  400678.942614  406338.802576  \n",
       "             PADRE ABAD         61734.712329   62565.024206   63406.503509  \n",
       "             PURUS               2709.727914    2637.579211    2567.351527  \n",
       "\n",
       "[196 rows x 16 columns]"
      ]
     },
     "execution_count": 3,
     "metadata": {},
     "output_type": "execute_result"
    }
   ],
   "source": [
    "population"
   ]
  },
  {
   "cell_type": "code",
   "execution_count": 4,
   "metadata": {
    "tags": []
   },
   "outputs": [],
   "source": [
    "#\n",
    "population['ubigeo'] = (population['Ubigeo'] # La variable ubigeo\n",
    "                        .replace({'0701':'1501'}) # Se asigna la provincia del Callao a Lima Matropolitana\n",
    "                        .apply(str) # Se asigna como string\n",
    "                       )"
   ]
  },
  {
   "cell_type": "code",
   "execution_count": 5,
   "metadata": {
    "tags": []
   },
   "outputs": [],
   "source": [
    "\n",
    "populationpp = (population\n",
    "                .drop(columns = ['Ubigeo']) #Se elimina la variable Ubigeo\n",
    "                .groupby(\"ubigeo\") # Se agrupa por la variable ubigeo\n",
    "                .sum() #Se calcula el agregado\n",
    "                .sort_index(axis = 1) #Se ordenan las columnas\n",
    "               )"
   ]
  },
  {
   "cell_type": "code",
   "execution_count": 6,
   "metadata": {
    "tags": []
   },
   "outputs": [],
   "source": [
    "populationpr = (populationpp\n",
    "                .assign(ubigeo = lambda df: df.index.str[0:2] + '00') # Se crea la variable de ubigeo por departamento\n",
    "                .reset_index(drop = True) # Se resetea el index\n",
    "                .groupby('ubigeo') # Se agrupa por el nuevo ubigeo\n",
    "                .sum() #Se suma\n",
    "               )"
   ]
  },
  {
   "cell_type": "code",
   "execution_count": 7,
   "metadata": {
    "tags": []
   },
   "outputs": [],
   "source": [
    "# Se concatenan ambas bases (equivalente a un append en stata)\n",
    "populationb = pd.concat([populationpp,populationpr]).stack()"
   ]
  },
  {
   "cell_type": "code",
   "execution_count": 8,
   "metadata": {
    "tags": []
   },
   "outputs": [],
   "source": [
    "# Nombres para los indices\n",
    "populationb.index.names = ['ubigeo','year']"
   ]
  },
  {
   "cell_type": "markdown",
   "metadata": {},
   "source": [
    "###### Creando gasto per capita (a nivel de provincia y region)"
   ]
  },
  {
   "cell_type": "code",
   "execution_count": 9,
   "metadata": {
    "tags": []
   },
   "outputs": [],
   "source": [
    "#Se lee la base de poblacion por distrito\n",
    "spending = pd.read_pickle(\"../data/raw/gastos-categorias-periodos.pickle\")"
   ]
  },
  {
   "cell_type": "code",
   "execution_count": 10,
   "metadata": {
    "tags": []
   },
   "outputs": [],
   "source": [
    "# Se reemplaza Callao por Lima\n",
    "spending['ubigeo'] = spending['ubigeo'].replace({'0701':'1501'})"
   ]
  },
  {
   "cell_type": "code",
   "execution_count": 11,
   "metadata": {
    "tags": []
   },
   "outputs": [],
   "source": [
    "# Solo gastos post 2006\n",
    "spending = spending[spending.year > 2006]"
   ]
  },
  {
   "cell_type": "code",
   "execution_count": 12,
   "metadata": {
    "tags": []
   },
   "outputs": [],
   "source": [
    "data = (spending\n",
    "        .groupby(['ubigeo','year','BtnTipoGobierno','TIPO_G']) #Agrupacion\n",
    "        [['Devengado','PIM']] #Variables de devengado y PIM\n",
    "        .sum() # Suma\n",
    "        .rename(columns = lambda col: \"USE_\" + col) #Renombrando variables\n",
    "        .join(populationb.rename(\"pop\")) #Uniendo con la poblacion\n",
    "        .apply(lambda y: y/y['pop'], axis = 1) #Diviendo las variables por la poblacion\n",
    "        .drop(columns = ['pop']) #Eliminando poblacion\n",
    "       )\n"
   ]
  },
  {
   "cell_type": "markdown",
   "metadata": {},
   "source": [
    "##### Asignando gasto de region a nivel de provincia"
   ]
  },
  {
   "cell_type": "code",
   "execution_count": 13,
   "metadata": {
    "tags": []
   },
   "outputs": [],
   "source": [
    "# Separando regiones de provincias\n",
    "\n",
    "dataprovince = data.loc[data.index.get_level_values(0).str[2:] != '00']\n",
    "dataregion = data.loc[data.index.get_level_values(0).str[2:] == '00']\n"
   ]
  },
  {
   "cell_type": "code",
   "execution_count": 14,
   "metadata": {
    "tags": []
   },
   "outputs": [
    {
     "name": "stderr",
     "output_type": "stream",
     "text": [
      "/tmp/ipykernel_7705/2166074236.py:3: SettingWithCopyWarning: \n",
      "A value is trying to be set on a copy of a slice from a DataFrame.\n",
      "Try using .loc[row_indexer,col_indexer] = value instead\n",
      "\n",
      "See the caveats in the documentation: https://pandas.pydata.org/pandas-docs/stable/user_guide/indexing.html#returning-a-view-versus-a-copy\n",
      "  dataprovince.loc[:,'region'] = dataprovince.index.get_level_values(0).str[:2]\n",
      "/tmp/ipykernel_7705/2166074236.py:4: SettingWithCopyWarning: \n",
      "A value is trying to be set on a copy of a slice from a DataFrame.\n",
      "Try using .loc[row_indexer,col_indexer] = value instead\n",
      "\n",
      "See the caveats in the documentation: https://pandas.pydata.org/pandas-docs/stable/user_guide/indexing.html#returning-a-view-versus-a-copy\n",
      "  dataregion.loc[:,'region'] = dataregion.index.get_level_values(0).str[:2]\n"
     ]
    }
   ],
   "source": [
    "# Creando variable region\n",
    "\n",
    "dataprovince.loc[:,'region'] = dataprovince.index.get_level_values(0).str[:2]\n",
    "dataregion.loc[:,'region'] = dataregion.index.get_level_values(0).str[:2]"
   ]
  },
  {
   "cell_type": "code",
   "execution_count": 15,
   "metadata": {
    "tags": []
   },
   "outputs": [],
   "source": [
    "# Reordenando variables\n",
    "\n",
    "dataprovince = (dataprovince\n",
    "                .set_index('region',append= True) #Creando un nuevo indice\n",
    "                .stack() #Columnas a indice (equivalente al reshape)\n",
    "                .unstack([2,3,5]) # Indice a columnas\n",
    "               )\n",
    "\n",
    "dataregion = (dataregion\n",
    "              .set_index('region',append= True)  #Creando un nuevo indice\n",
    "              .stack() #Columnas a indice (equivalente al reshape)\n",
    "              .unstack([2,3,5]) #Indice a columnas\n",
    "              .reset_index('ubigeo', drop = True) #Quitando un indice\n",
    "             )"
   ]
  },
  {
   "cell_type": "code",
   "execution_count": 16,
   "metadata": {
    "tags": []
   },
   "outputs": [],
   "source": [
    "data = dataprovince.join(dataregion)\n",
    "\n",
    "data = data.sort_index(axis = 1).fillna(0)"
   ]
  },
  {
   "cell_type": "code",
   "execution_count": 17,
   "metadata": {
    "tags": []
   },
   "outputs": [],
   "source": [
    "data['period'] = pd.cut(data.index.get_level_values('year'), [2007, 2012, 2017, 2022], include_lowest=False)"
   ]
  },
  {
   "cell_type": "code",
   "execution_count": 18,
   "metadata": {
    "tags": []
   },
   "outputs": [],
   "source": [
    "data_agregada = data.groupby(['ubigeo','period']).mean()"
   ]
  },
  {
   "cell_type": "code",
   "execution_count": 20,
   "metadata": {
    "tags": []
   },
   "outputs": [],
   "source": [
    "data_agregada.to_pickle(\"../data/interim/data_spending.pickle\")"
   ]
  },
  {
   "cell_type": "code",
   "execution_count": null,
   "metadata": {},
   "outputs": [],
   "source": []
  }
 ],
 "metadata": {
  "kernelspec": {
   "display_name": "Python 3 (ipykernel)",
   "language": "python",
   "name": "python3"
  },
  "language_info": {
   "codemirror_mode": {
    "name": "ipython",
    "version": 3
   },
   "file_extension": ".py",
   "mimetype": "text/x-python",
   "name": "python",
   "nbconvert_exporter": "python",
   "pygments_lexer": "ipython3",
   "version": "3.10.11"
  }
 },
 "nbformat": 4,
 "nbformat_minor": 4
}
