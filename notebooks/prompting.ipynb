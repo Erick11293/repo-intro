{
 "cells": [
  {
   "cell_type": "markdown",
   "id": "c63da5de-f1ab-4b57-a769-f8286fbaa8d4",
   "metadata": {},
   "source": [
    "##### Prompting con ChatGTP"
   ]
  },
  {
   "cell_type": "markdown",
   "id": "4f775339-c0c1-4c49-b354-4f602265d4f6",
   "metadata": {},
   "source": [
    "En este ejericio vamos a analizar algunas sugerencias de ChatGTP."
   ]
  },
  {
   "cell_type": "code",
   "execution_count": 31,
   "id": "13dbc4d4-9022-4175-b57c-e7c8af0eec96",
   "metadata": {},
   "outputs": [],
   "source": [
    "import pandas as pd\n",
    "from credentials import key\n",
    "from openai import OpenAI"
   ]
  },
  {
   "cell_type": "code",
   "execution_count": 77,
   "id": "485e36b8-9492-4974-9d30-aa5611de1471",
   "metadata": {},
   "outputs": [],
   "source": [
    "\n",
    "client = OpenAI(api_key = key)\n",
    "\n",
    "\n",
    "def get_recommendation(year, step):\n",
    "\n",
    "    completion = client.chat.completions.create(\n",
    "      model=\"gpt-3.5-turbo\",\n",
    "      messages=[\n",
    "        {\"role\": \"user\", \n",
    "         \"content\": f\"Give me a table with 50 book recommendations from {year} to {year + step} with the following columns: title, author, author nationality, year, and original language.\"}\n",
    "      ],\n",
    "        temperature = 0, \n",
    "    )\n",
    "\n",
    "    return completion.choices[0]\n"
   ]
  },
  {
   "cell_type": "code",
   "execution_count": 80,
   "id": "93ac58ef-8b9a-407f-87f2-51db76f6e18d",
   "metadata": {},
   "outputs": [],
   "source": [
    "def get_recommendation_spanish(year, step):\n",
    "\n",
    "    completion = client.chat.completions.create(\n",
    "      model=\"gpt-3.5-turbo\",\n",
    "      messages=[\n",
    "        {\"role\": \"user\", \n",
    "         \"content\": f\"Dame una tabla con 50 recomendaciones de libros de {year} hasta {year + step} con las siguientes columnas: titulo, autor, nacionalidad del autor, año e idioma original.\"}\n",
    "      ],\n",
    "        temperature = 0, \n",
    "    )\n",
    "\n",
    "    return completion.choices[0]"
   ]
  },
  {
   "cell_type": "code",
   "execution_count": 23,
   "id": "d10caf88-34b0-4711-813d-c01de90f4383",
   "metadata": {},
   "outputs": [],
   "source": [
    "periodo_inicio = 1900"
   ]
  },
  {
   "cell_type": "code",
   "execution_count": 56,
   "id": "40dee5da-aabd-404b-91cb-b9ae30a9400c",
   "metadata": {},
   "outputs": [],
   "source": [
    "def get_df(data):\n",
    "    \n",
    "    # Convert the string into a list of rows\n",
    "    rows = [row.split('|')[1:-1] for row in data.strip().split('\\n')[2:]]\n",
    "    \n",
    "    # Clean up the rows by stripping whitespace\n",
    "    rows = [[cell.strip() for cell in row] for row in rows]\n",
    "    \n",
    "    # Define the column names\n",
    "    columns = [\"Title\", \"Author\", \"Author Nationality\", \"Year\", \"Original Language\"]\n",
    "    \n",
    "    # Create the DataFrame\n",
    "    df = pd.DataFrame(rows, columns=columns)\n",
    "    \n",
    "    # Convert the 'Year' column to integer\n",
    "    df['Year'] = df['Year']\n",
    "    \n",
    "    # Display the DataFrame\n",
    "    return df"
   ]
  },
  {
   "cell_type": "code",
   "execution_count": 72,
   "id": "970d139e-1ef7-4760-8a35-8c984ed60a83",
   "metadata": {},
   "outputs": [],
   "source": [
    "step = 10"
   ]
  },
  {
   "cell_type": "code",
   "execution_count": 73,
   "id": "c462144b-493f-4ad7-a04d-3f9f42f04def",
   "metadata": {},
   "outputs": [],
   "source": [
    "periods = range(1910, 2010, step)"
   ]
  },
  {
   "cell_type": "code",
   "execution_count": 42,
   "id": "6d8c688f-fdf8-4e93-a892-d53729f829cc",
   "metadata": {},
   "outputs": [],
   "source": [
    "df = pd.DataFrame(periods, columns = ['year'])"
   ]
  },
  {
   "cell_type": "code",
   "execution_count": 46,
   "id": "e43c7c0c-6dd1-4c12-bb87-1d9bb033fea0",
   "metadata": {},
   "outputs": [],
   "source": [
    "df['recommendation'] = df['year'].apply(lambda y: get_recommendation(y, step))"
   ]
  },
  {
   "cell_type": "code",
   "execution_count": 81,
   "id": "71db07e2-66f9-46cf-98b7-5f99bc44b99c",
   "metadata": {
    "scrolled": true
   },
   "outputs": [],
   "source": [
    "df['recommendation_spanish'] = df['year'].apply(lambda y: get_recommendation_spanish(y, step))"
   ]
  },
  {
   "cell_type": "code",
   "execution_count": 82,
   "id": "09530f07-9667-444c-8f68-53b3360c119b",
   "metadata": {
    "scrolled": true
   },
   "outputs": [
    {
     "data": {
      "text/plain": [
       "Original Language\n",
       "English     394\n",
       "French       32\n",
       "German       18\n",
       "Swedish      12\n",
       "Spanish       8\n",
       "Italian       7\n",
       "Russian       5\n",
       "Japanese      5\n",
       "Arabic        1\n",
       "Latin         1\n",
       "Dutch         1\n",
       "Name: count, dtype: int64"
      ]
     },
     "execution_count": 82,
     "metadata": {},
     "output_type": "execute_result"
    }
   ],
   "source": [
    "df_recommendations = pd.concat(df['recommendation'].apply(lambda y: get_df(y.message.content)).values, keys = periods)\n",
    "\n",
    "df_recommendations['Original Language'].value_counts()"
   ]
  },
  {
   "cell_type": "code",
   "execution_count": 88,
   "id": "5ce36f7e-6450-48c2-9ec0-707b158c1490",
   "metadata": {},
   "outputs": [
    {
     "data": {
      "text/plain": [
       "Author Nationality\n",
       "American              246\n",
       "British               103\n",
       "French                 31\n",
       "Canadian               16\n",
       "Swedish                12\n",
       "German                 12\n",
       "Italian                 7\n",
       "Russian                 6\n",
       "Japanese                5\n",
       "Indian                  5\n",
       "Dominican-American      4\n",
       "Afghan                  4\n",
       "Czech                   4\n",
       "Scottish                4\n",
       "Colombian               3\n",
       "New Zealander           3\n",
       "Mexican                 3\n",
       "Irish                   2\n",
       "Australian              2\n",
       "Austrian                2\n",
       "British-Japanese        1\n",
       "Spanish                 1\n",
       "Afghan-American         1\n",
       "Belgian                 1\n",
       "Chilean                 1\n",
       "Roman                   1\n",
       "Dutch                   1\n",
       "South African           1\n",
       "Various                 1\n",
       "Swiss                   1\n",
       "Name: count, dtype: int64"
      ]
     },
     "execution_count": 88,
     "metadata": {},
     "output_type": "execute_result"
    }
   ],
   "source": [
    "df_recommendations['Author Nationality'].value_counts()"
   ]
  },
  {
   "cell_type": "code",
   "execution_count": 87,
   "id": "e44589c4-ac95-4e8e-be36-aacc8c8b65fe",
   "metadata": {},
   "outputs": [
    {
     "data": {
      "text/plain": [
       "Original Language\n",
       "Inglés       278\n",
       "Español       73\n",
       "Alemán        60\n",
       "Francés       32\n",
       "Checo         14\n",
       "Portugués     10\n",
       "Italiano       7\n",
       "Japonés        6\n",
       "Ruso           1\n",
       "Name: count, dtype: int64"
      ]
     },
     "execution_count": 87,
     "metadata": {},
     "output_type": "execute_result"
    }
   ],
   "source": [
    "df_recommendations_spanish = pd.concat(df['recommendation_spanish'].apply(lambda y: get_df(y.message.content)).values, keys = periods)\n",
    "\n",
    "df_recommendations_spanish['Original Language'].value_counts()"
   ]
  },
  {
   "cell_type": "code",
   "execution_count": 89,
   "id": "11d9ef54-597e-4e69-ab35-f6e733801740",
   "metadata": {},
   "outputs": [
    {
     "data": {
      "text/plain": [
       "Author Nationality\n",
       "Estadounidense    153\n",
       "Británico          66\n",
       "Alemán             23\n",
       "Británica          21\n",
       "Española           20\n",
       "Checo              20\n",
       "Francés            17\n",
       "Alemania           13\n",
       "Chilena            12\n",
       "Estados Unidos     10\n",
       "Francesa           10\n",
       "Austria             9\n",
       "Reino Unido         9\n",
       "Peruana             8\n",
       "Mexicano            7\n",
       "Japonés             5\n",
       "Brasileño           5\n",
       "India               5\n",
       "Checa               5\n",
       "Brasileña           5\n",
       "Irlanda             5\n",
       "Colombiano          5\n",
       "Español             5\n",
       "Alemana             4\n",
       "Peruano             4\n",
       "Italiana            4\n",
       "Colombiana          4\n",
       "Francia             4\n",
       "Uruguaya            3\n",
       "Australiana         3\n",
       "Argentino           3\n",
       "Italiano            3\n",
       "Canadiense          2\n",
       "Irlandesa           2\n",
       "Ruso                2\n",
       "Sudafricano         1\n",
       "Uruguayo            1\n",
       "Mexicana            1\n",
       "Irlandés            1\n",
       "Japonesa            1\n",
       "Name: count, dtype: int64"
      ]
     },
     "execution_count": 89,
     "metadata": {},
     "output_type": "execute_result"
    }
   ],
   "source": [
    "df_recommendations_spanish['Author Nationality'].value_counts()"
   ]
  },
  {
   "cell_type": "code",
   "execution_count": null,
   "id": "7a255e53-c1dc-4e8b-9cf0-e6def06d427c",
   "metadata": {},
   "outputs": [],
   "source": []
  }
 ],
 "metadata": {
  "kernelspec": {
   "display_name": "Python 3 (ipykernel)",
   "language": "python",
   "name": "python3"
  },
  "language_info": {
   "codemirror_mode": {
    "name": "ipython",
    "version": 3
   },
   "file_extension": ".py",
   "mimetype": "text/x-python",
   "name": "python",
   "nbconvert_exporter": "python",
   "pygments_lexer": "ipython3",
   "version": "3.11.6"
  }
 },
 "nbformat": 4,
 "nbformat_minor": 5
}
