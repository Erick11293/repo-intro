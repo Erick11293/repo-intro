{
 "cells": [
  {
   "cell_type": "markdown",
   "id": "0f7c8ba8",
   "metadata": {},
   "source": [
    "#### Descargando las bases de datos"
   ]
  },
  {
   "cell_type": "code",
   "execution_count": 1,
   "id": "47363e4c",
   "metadata": {
    "tags": []
   },
   "outputs": [],
   "source": [
    "import requests\n",
    "import os\n",
    "import time"
   ]
  },
  {
   "cell_type": "code",
   "execution_count": 2,
   "id": "722454f5",
   "metadata": {
    "tags": []
   },
   "outputs": [],
   "source": [
    "from os.path import join\n",
    "from os import listdir, rmdir\n",
    "from shutil import move"
   ]
  },
  {
   "cell_type": "code",
   "execution_count": 3,
   "id": "ea7b67a1",
   "metadata": {
    "tags": []
   },
   "outputs": [],
   "source": [
    "from zipfile import ZipFile, BadZipfile"
   ]
  },
  {
   "cell_type": "code",
   "execution_count": 4,
   "id": "fe8ca1f7-ccf1-4fb5-97ee-f713e98f1580",
   "metadata": {
    "tags": []
   },
   "outputs": [],
   "source": [
    "ruta = \"../data/raw/ENAHO\""
   ]
  },
  {
   "cell_type": "code",
   "execution_count": 5,
   "id": "e7c5865d-8cd3-4fb4-a34a-6750469c517c",
   "metadata": {
    "tags": []
   },
   "outputs": [],
   "source": [
    "try:\n",
    "    os.mkdir(ruta)\n",
    "except FileExistsError:\n",
    "    pass"
   ]
  },
  {
   "cell_type": "code",
   "execution_count": 6,
   "id": "0427ba2d",
   "metadata": {
    "tags": []
   },
   "outputs": [
    {
     "name": "stdout",
     "output_type": "stream",
     "text": [
      "01\n",
      "02\n",
      "03\n",
      "04\n",
      "05\n",
      "18\n",
      "01\n",
      "02\n",
      "03\n",
      "04\n",
      "05\n",
      "18\n"
     ]
    }
   ],
   "source": [
    "\n",
    "periodo = 2004\n",
    "\n",
    "Encuestas = ['280','281','282','283','284','285'] + ['279','291','324','404','440','498','546','603','634','687','737','759']\n",
    "\n",
    "Modulos = ['01', '02', '03', '04', '05', '18']\n",
    "\n",
    "\n",
    "periodo = 2022\n",
    "\n",
    "Encuestas = ['784', '906']\n",
    "\n",
    "for i, enc in enumerate(Encuestas):\n",
    "    \n",
    "    try:\n",
    "        ruta_per = ruta + \"/\" + str(periodo)\n",
    "        os.makedirs(ruta_per)\n",
    "    except FileExistsError:\n",
    "        pass\n",
    "    for mod in Modulos:\n",
    "        print(mod)\n",
    "        #Abriendo archivo\n",
    "        try:\n",
    "            r = requests.get(\"http://proyectos.inei.gob.pe/iinei/srienaho/descarga/STATA/\" + enc + \"-Modulo\" + mod + \".zip\", allow_redirects=True)\n",
    "        except:\n",
    "            time.sleep(3)\n",
    "            r = requests.get(\"http://proyectos.inei.gob.pe/iinei/srienaho/descarga/STATA/\" + enc + \"-Modulo\" + mod + \".zip\", allow_redirects=True)\n",
    "        #Guardando archivo    \n",
    "        open(ruta_per + \"//Modulo\" + enc + mod + \".zip\", 'wb').write(r.content)\n",
    "        \n",
    "        with ZipFile(ruta_per + \"//Modulo\" + enc + mod + \".zip\", 'r') as zipObj:\n",
    "            try:\n",
    "                zipObj.extractall(path = ruta_per)\n",
    "            except BadZipfile:\n",
    "                print(f\"Periodo {periodo} modulo {mod} con problemas de descompresion\")\n",
    "                continue\n",
    "        try:\n",
    "            #Moviendo archivos al root\n",
    "            root = join(ruta_per,  enc + '-Modulo' + mod)\n",
    "            for filename in listdir(root):\n",
    "                move(join(root, filename), join(ruta_per, filename))\n",
    "\n",
    "            #Eliminando archivos no usados\n",
    "            rmdir(root)\n",
    "        except:\n",
    "            print(f\"Periodo {periodo} modulo {mod} con problemas de descompresion\")\n",
    "            pass\n",
    "        os.remove(ruta_per + \"//Modulo\" + enc + mod + \".zip\")\n",
    "    periodo += 1\n",
    "    "
   ]
  },
  {
   "cell_type": "code",
   "execution_count": null,
   "id": "831d0001",
   "metadata": {},
   "outputs": [],
   "source": []
  },
  {
   "cell_type": "code",
   "execution_count": null,
   "id": "e2a19357",
   "metadata": {},
   "outputs": [],
   "source": []
  }
 ],
 "metadata": {
  "kernelspec": {
   "display_name": "Python 3 (ipykernel)",
   "language": "python",
   "name": "python3"
  },
  "language_info": {
   "codemirror_mode": {
    "name": "ipython",
    "version": 3
   },
   "file_extension": ".py",
   "mimetype": "text/x-python",
   "name": "python",
   "nbconvert_exporter": "python",
   "pygments_lexer": "ipython3",
   "version": "3.11.6"
  }
 },
 "nbformat": 4,
 "nbformat_minor": 5
}
